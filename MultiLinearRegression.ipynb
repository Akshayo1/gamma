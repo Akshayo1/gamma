{
 "cells": [
  {
   "cell_type": "markdown",
   "id": "bf2afbd4-fbf6-4976-96ef-e0a835f4f502",
   "metadata": {},
   "source": [
    "Assumptions in multilinear Regression\n",
    "\n",
    "1. Linearity: The relationship between the predictors and the response is linear.\n",
    "2. Independence: Observation are independent of each other.\n",
    "3. Homoscedasticity: The residuals (Y - Y_hat)) exhibit constant variance at all levels of the predicator.\n",
    "4. Normal Distribution of Errors:The residuals of the model are normally distributed.\n",
    "5. No multicolinearity:The independent variables should not be too highly correlated with each other."
   ]
  },
  {
   "cell_type": "code",
   "execution_count": 2,
   "id": "9d56d886-a0f5-4b23-bb94-9b7afc85d364",
   "metadata": {},
   "outputs": [],
   "source": [
    "import pandas as pd\n",
    "import matplotlib.pyplot as plt \n",
    "import seaborn as sns\n",
    "import statsmodels.formula.api as smf\n",
    "from statsmodels.graphics.regressionplots import influence_plot\n",
    "import numpy as np"
   ]
  },
  {
   "cell_type": "code",
   "execution_count": 3,
   "id": "a47412aa-e826-44ba-b9a0-e6057735ac95",
   "metadata": {},
   "outputs": [
    {
     "data": {
      "text/html": [
       "<div>\n",
       "<style scoped>\n",
       "    .dataframe tbody tr th:only-of-type {\n",
       "        vertical-align: middle;\n",
       "    }\n",
       "\n",
       "    .dataframe tbody tr th {\n",
       "        vertical-align: top;\n",
       "    }\n",
       "\n",
       "    .dataframe thead th {\n",
       "        text-align: right;\n",
       "    }\n",
       "</style>\n",
       "<table border=\"1\" class=\"dataframe\">\n",
       "  <thead>\n",
       "    <tr style=\"text-align: right;\">\n",
       "      <th></th>\n",
       "      <th>HP</th>\n",
       "      <th>MPG</th>\n",
       "      <th>VOL</th>\n",
       "      <th>SP</th>\n",
       "      <th>WT</th>\n",
       "    </tr>\n",
       "  </thead>\n",
       "  <tbody>\n",
       "    <tr>\n",
       "      <th>0</th>\n",
       "      <td>49</td>\n",
       "      <td>53.700681</td>\n",
       "      <td>89</td>\n",
       "      <td>104.185353</td>\n",
       "      <td>28.762059</td>\n",
       "    </tr>\n",
       "    <tr>\n",
       "      <th>1</th>\n",
       "      <td>55</td>\n",
       "      <td>50.013401</td>\n",
       "      <td>92</td>\n",
       "      <td>105.461264</td>\n",
       "      <td>30.466833</td>\n",
       "    </tr>\n",
       "    <tr>\n",
       "      <th>2</th>\n",
       "      <td>55</td>\n",
       "      <td>50.013401</td>\n",
       "      <td>92</td>\n",
       "      <td>105.461264</td>\n",
       "      <td>30.193597</td>\n",
       "    </tr>\n",
       "    <tr>\n",
       "      <th>3</th>\n",
       "      <td>70</td>\n",
       "      <td>45.696322</td>\n",
       "      <td>92</td>\n",
       "      <td>113.461264</td>\n",
       "      <td>30.632114</td>\n",
       "    </tr>\n",
       "    <tr>\n",
       "      <th>4</th>\n",
       "      <td>53</td>\n",
       "      <td>50.504232</td>\n",
       "      <td>92</td>\n",
       "      <td>104.461264</td>\n",
       "      <td>29.889149</td>\n",
       "    </tr>\n",
       "  </tbody>\n",
       "</table>\n",
       "</div>"
      ],
      "text/plain": [
       "   HP        MPG  VOL          SP         WT\n",
       "0  49  53.700681   89  104.185353  28.762059\n",
       "1  55  50.013401   92  105.461264  30.466833\n",
       "2  55  50.013401   92  105.461264  30.193597\n",
       "3  70  45.696322   92  113.461264  30.632114\n",
       "4  53  50.504232   92  104.461264  29.889149"
      ]
     },
     "execution_count": 3,
     "metadata": {},
     "output_type": "execute_result"
    }
   ],
   "source": [
    "cars = pd.read_csv(\"Cars.csv\")\n",
    "cars.head()"
   ]
  },
  {
   "cell_type": "code",
   "execution_count": 4,
   "id": "440094f3-afbb-43ff-82d8-6463cf953eaa",
   "metadata": {},
   "outputs": [
    {
     "data": {
      "text/html": [
       "<div>\n",
       "<style scoped>\n",
       "    .dataframe tbody tr th:only-of-type {\n",
       "        vertical-align: middle;\n",
       "    }\n",
       "\n",
       "    .dataframe tbody tr th {\n",
       "        vertical-align: top;\n",
       "    }\n",
       "\n",
       "    .dataframe thead th {\n",
       "        text-align: right;\n",
       "    }\n",
       "</style>\n",
       "<table border=\"1\" class=\"dataframe\">\n",
       "  <thead>\n",
       "    <tr style=\"text-align: right;\">\n",
       "      <th></th>\n",
       "      <th>HP</th>\n",
       "      <th>VOL</th>\n",
       "      <th>SP</th>\n",
       "      <th>WT</th>\n",
       "      <th>MPG</th>\n",
       "    </tr>\n",
       "  </thead>\n",
       "  <tbody>\n",
       "    <tr>\n",
       "      <th>0</th>\n",
       "      <td>49</td>\n",
       "      <td>89</td>\n",
       "      <td>104.185353</td>\n",
       "      <td>28.762059</td>\n",
       "      <td>53.700681</td>\n",
       "    </tr>\n",
       "    <tr>\n",
       "      <th>1</th>\n",
       "      <td>55</td>\n",
       "      <td>92</td>\n",
       "      <td>105.461264</td>\n",
       "      <td>30.466833</td>\n",
       "      <td>50.013401</td>\n",
       "    </tr>\n",
       "    <tr>\n",
       "      <th>2</th>\n",
       "      <td>55</td>\n",
       "      <td>92</td>\n",
       "      <td>105.461264</td>\n",
       "      <td>30.193597</td>\n",
       "      <td>50.013401</td>\n",
       "    </tr>\n",
       "    <tr>\n",
       "      <th>3</th>\n",
       "      <td>70</td>\n",
       "      <td>92</td>\n",
       "      <td>113.461264</td>\n",
       "      <td>30.632114</td>\n",
       "      <td>45.696322</td>\n",
       "    </tr>\n",
       "    <tr>\n",
       "      <th>4</th>\n",
       "      <td>53</td>\n",
       "      <td>92</td>\n",
       "      <td>104.461264</td>\n",
       "      <td>29.889149</td>\n",
       "      <td>50.504232</td>\n",
       "    </tr>\n",
       "  </tbody>\n",
       "</table>\n",
       "</div>"
      ],
      "text/plain": [
       "   HP  VOL          SP         WT        MPG\n",
       "0  49   89  104.185353  28.762059  53.700681\n",
       "1  55   92  105.461264  30.466833  50.013401\n",
       "2  55   92  105.461264  30.193597  50.013401\n",
       "3  70   92  113.461264  30.632114  45.696322\n",
       "4  53   92  104.461264  29.889149  50.504232"
      ]
     },
     "execution_count": 4,
     "metadata": {},
     "output_type": "execute_result"
    }
   ],
   "source": [
    "cars = pd.DataFrame(cars, columns=[\"HP\",\"VOL\",\"SP\", \"WT\",\"MPG\"])\n",
    "cars.head()"
   ]
  },
  {
   "cell_type": "markdown",
   "id": "17c0d8bb-83b9-4d05-9b64-32ba996412eb",
   "metadata": {},
   "source": [
    "### Description of columns\n",
    " - MPG:Milege of the car (Mile per Gallon)(This is Y-column to be predicted)\n",
    " - HP:Horse Power of the car (X1 column)\n",
    " - VOL:Volume of the car (Miles per Hour)(X3 column)\n",
    " - SP:Top speed of the car (Miles per Hour)(X3 column)\n",
    " - WT:Weight of the car(Pounds)(X4 Column)"
   ]
  },
  {
   "cell_type": "code",
   "execution_count": 8,
   "id": "4cf6f0f2-d86a-4930-8d9a-90bb2324f16e",
   "metadata": {},
   "outputs": [
    {
     "name": "stdout",
     "output_type": "stream",
     "text": [
      "<class 'pandas.core.frame.DataFrame'>\n",
      "RangeIndex: 81 entries, 0 to 80\n",
      "Data columns (total 5 columns):\n",
      " #   Column  Non-Null Count  Dtype  \n",
      "---  ------  --------------  -----  \n",
      " 0   HP      81 non-null     int64  \n",
      " 1   VOL     81 non-null     int64  \n",
      " 2   SP      81 non-null     float64\n",
      " 3   WT      81 non-null     float64\n",
      " 4   MPG     81 non-null     float64\n",
      "dtypes: float64(3), int64(2)\n",
      "memory usage: 3.3 KB\n"
     ]
    }
   ],
   "source": [
    "cars.info()"
   ]
  },
  {
   "cell_type": "markdown",
   "id": "9944c6a8-56f2-4b69-9520-3c3a27b5ba89",
   "metadata": {},
   "source": [
    "#### Observations\n",
    " - There are no missing values\n",
    " - There are 81 observations (81 different cars data)\n",
    " - The data types of the columns are also relevant and valid"
   ]
  },
  {
   "cell_type": "code",
   "execution_count": null,
   "id": "b2d54d01-78a8-4c87-a30f-91fafd3e46f6",
   "metadata": {},
   "outputs": [],
   "source": []
  }
 ],
 "metadata": {
  "kernelspec": {
   "display_name": "Python 3 (ipykernel)",
   "language": "python",
   "name": "python3"
  },
  "language_info": {
   "codemirror_mode": {
    "name": "ipython",
    "version": 3
   },
   "file_extension": ".py",
   "mimetype": "text/x-python",
   "name": "python",
   "nbconvert_exporter": "python",
   "pygments_lexer": "ipython3",
   "version": "3.12.7"
  }
 },
 "nbformat": 4,
 "nbformat_minor": 5
}
